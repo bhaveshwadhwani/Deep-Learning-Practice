{
  "nbformat": 4,
  "nbformat_minor": 0,
  "metadata": {
    "colab": {
      "name": "Sentiment_Analysis_Keras.ipynb",
      "provenance": [],
      "collapsed_sections": [],
      "include_colab_link": true
    },
    "kernelspec": {
      "name": "python3",
      "display_name": "Python 3"
    },
    "accelerator": "GPU"
  },
  "cells": [
    {
      "cell_type": "markdown",
      "metadata": {
        "id": "view-in-github",
        "colab_type": "text"
      },
      "source": [
        "<a href=\"https://colab.research.google.com/github/bhaveshwadhwani/Deep-Learning-Practice/blob/master/Sentiment_Analysis_Keras.ipynb\" target=\"_parent\"><img src=\"https://colab.research.google.com/assets/colab-badge.svg\" alt=\"Open In Colab\"/></a>"
      ]
    },
    {
      "cell_type": "code",
      "metadata": {
        "id": "MkOJR3WOVdAF",
        "colab_type": "code",
        "colab": {}
      },
      "source": [
        "from keras.layers import Embedding\n",
        "from keras.models import Sequential\n",
        "from keras.datasets import imdb\n",
        "import keras as K\n",
        "import numpy as np"
      ],
      "execution_count": 0,
      "outputs": []
    },
    {
      "cell_type": "code",
      "metadata": {
        "id": "MG3FkBEEWC4i",
        "colab_type": "code",
        "colab": {}
      },
      "source": [
        "max_words = 20000\n",
        "\n",
        "(train_x, train_y), (test_x, test_y) = imdb.load_data(num_words=max_words)\n",
        "\n",
        "max_review_length = 80\n",
        "train_x = K.preprocessing.sequence.pad_sequences(train_x, truncating='pre', padding='pre', maxlen=max_review_length)\n",
        "test_x = K.preprocessing.sequence.pad_sequences(test_x, truncating='pre', padding='pre', maxlen=max_review_length)"
      ],
      "execution_count": 0,
      "outputs": []
    },
    {
      "cell_type": "code",
      "metadata": {
        "id": "y35k9nNOVm1m",
        "colab_type": "code",
        "outputId": "a3f18271-459e-4585-e663-352c5933a06d",
        "colab": {
          "base_uri": "https://localhost:8080/",
          "height": 408
        }
      },
      "source": [
        "model = Sequential()\n",
        "embedding_length = 5\n",
        "max_words = 1000\n",
        "max_sentence_length = 10\n",
        "model.add(Embedding(max_words, embedding_length, input_length=max_sentence_length))\n",
        "# the model will take as input an integer matrix of size (batch, input_length).\n",
        "# the largest integer (i.e. word index) in the input should be\n",
        "# no larger than max_words-1 (vocabulary size).\n",
        "# now model.output_shape == (None, max_review_length, embedding_length), where None is the batch dimension.\n",
        "\n",
        "\n",
        "input_array = np.random.randint(max_words, size=(2, max_sentence_length)) #train_x[0]\n",
        "print(input_array, np.shape(input_array))\n",
        "\n",
        "model.compile('rmsprop', 'mse')\n",
        "output_array = model.predict(input_array)\n",
        "#assert output_array.shape == (32, 10, 64)\n",
        "print(output_array, np.shape(output_array))"
      ],
      "execution_count": 6,
      "outputs": [
        {
          "output_type": "stream",
          "text": [
            "[[857 438 393  93 139 534 668 463 261 358]\n",
            " [218 527 316  95 262 896 993 364  97 165]] (2, 10)\n",
            "[[[ 0.04509321 -0.02859612  0.00480014 -0.03129796  0.02184549]\n",
            "  [ 0.00520294 -0.04043989  0.00543876  0.04794722  0.03410072]\n",
            "  [-0.03098614 -0.03418135  0.02200163  0.02159091 -0.02933758]\n",
            "  [-0.01724041 -0.00956567 -0.02313908  0.00950081 -0.01286292]\n",
            "  [ 0.03455046 -0.01045915 -0.01288861  0.00120128 -0.02053982]\n",
            "  [-0.00894463  0.03714368 -0.00242865 -0.04765694 -0.03061371]\n",
            "  [-0.04914039 -0.04116387  0.04262574 -0.02307246  0.02306057]\n",
            "  [-0.00534276 -0.01312257  0.01208781 -0.02716889 -0.04742327]\n",
            "  [ 0.00409328 -0.04019741  0.04840111  0.03821191 -0.00381142]\n",
            "  [-0.01927583  0.00907371 -0.04869778  0.01575065  0.00592273]]\n",
            "\n",
            " [[ 0.03981725 -0.0393      0.03587988 -0.04039662  0.00762615]\n",
            "  [-0.02384963 -0.02772249 -0.02346718 -0.03600768  0.01162814]\n",
            "  [-0.03871809 -0.03252371  0.00178491 -0.04057872  0.03977976]\n",
            "  [-0.0012093   0.01243594 -0.02523466 -0.02172666  0.00013356]\n",
            "  [ 0.02865214 -0.02059529  0.01607594 -0.03397719 -0.02581514]\n",
            "  [ 0.03940735  0.03484489  0.04620358  0.03198148 -0.01153767]\n",
            "  [-0.0272436   0.00120046 -0.04549699 -0.03823961  0.02509662]\n",
            "  [ 0.03829867  0.02568443  0.02453938  0.03453289 -0.02783241]\n",
            "  [-0.03975157  0.04612074  0.0186209  -0.0066941   0.02948756]\n",
            "  [ 0.01164996 -0.03438906  0.03633927 -0.00612569 -0.03995985]]] (2, 10, 5)\n"
          ],
          "name": "stdout"
        }
      ]
    },
    {
      "cell_type": "code",
      "metadata": {
        "id": "6Jg5THp3VvNn",
        "colab_type": "code",
        "colab": {
          "base_uri": "https://localhost:8080/",
          "height": 187
        },
        "outputId": "ecabb296-156c-4650-8c31-d4e188c78667"
      },
      "source": [
        "model.summary()"
      ],
      "execution_count": 7,
      "outputs": [
        {
          "output_type": "stream",
          "text": [
            "Model: \"sequential_2\"\n",
            "_________________________________________________________________\n",
            "Layer (type)                 Output Shape              Param #   \n",
            "=================================================================\n",
            "embedding_2 (Embedding)      (None, 10, 5)             5000      \n",
            "=================================================================\n",
            "Total params: 5,000\n",
            "Trainable params: 5,000\n",
            "Non-trainable params: 0\n",
            "_________________________________________________________________\n"
          ],
          "name": "stdout"
        }
      ]
    },
    {
      "cell_type": "markdown",
      "metadata": {
        "id": "11xPrTcsf924",
        "colab_type": "text"
      },
      "source": [
        "# One hot representation"
      ]
    },
    {
      "cell_type": "code",
      "metadata": {
        "id": "LQrfhu62gBsu",
        "colab_type": "code",
        "outputId": "54409faf-45e0-4862-c000-291c32c284de",
        "colab": {
          "base_uri": "https://localhost:8080/",
          "height": 54
        }
      },
      "source": [
        "from keras.preprocessing.text import one_hot\n",
        "\n",
        "#define documents\n",
        "docs = ['glass of orange juice',\n",
        "        'bottle of mango juice',\n",
        "        'glass of mango shake',\n",
        "        'drink bottle of banana shake',\n",
        "        'I want a glass of cold water',\n",
        "        'The king and the queen',\n",
        "        'man and woman']\n",
        "\n",
        "vocab_size = 10000\n",
        "\n",
        "encoded_docs = [one_hot(d, vocab_size) for d in docs]\n",
        "print(encoded_docs)"
      ],
      "execution_count": 8,
      "outputs": [
        {
          "output_type": "stream",
          "text": [
            "[[5793, 1980, 9097, 6164], [2203, 1980, 3696, 6164], [5793, 1980, 3696, 4473], [808, 2203, 1980, 9169, 4473], [3973, 4730, 1348, 5793, 1980, 5580, 4907], [6672, 9258, 9781, 6672, 7702], [4989, 9781, 9394]]\n"
          ],
          "name": "stdout"
        }
      ]
    },
    {
      "cell_type": "markdown",
      "metadata": {
        "id": "ZCw-E8NbpXlF",
        "colab_type": "text"
      },
      "source": [
        "# Word Embeddings"
      ]
    },
    {
      "cell_type": "code",
      "metadata": {
        "id": "tge-coMgUnrY",
        "colab_type": "code",
        "outputId": "66575f21-5376-48c1-bc9f-56eb4e77c22c",
        "colab": {
          "base_uri": "https://localhost:8080/",
          "height": 136
        }
      },
      "source": [
        "from keras.preprocessing.sequence import pad_sequences\n",
        "from keras.models import Sequential\n",
        "from keras.layers import Embedding, LSTM\n",
        "\n",
        "import numpy as np\n",
        "\n",
        "embedding_length = 5\n",
        "max_doc_len = 10\n",
        "\n",
        "encoded_docs = pad_sequences(encoded_docs, truncating='post', padding='post', maxlen=max_doc_len)\n",
        "\n",
        "print(encoded_docs)\n"
      ],
      "execution_count": 9,
      "outputs": [
        {
          "output_type": "stream",
          "text": [
            "[[5793 1980 9097 6164    0    0    0    0    0    0]\n",
            " [2203 1980 3696 6164    0    0    0    0    0    0]\n",
            " [5793 1980 3696 4473    0    0    0    0    0    0]\n",
            " [ 808 2203 1980 9169 4473    0    0    0    0    0]\n",
            " [3973 4730 1348 5793 1980 5580 4907    0    0    0]\n",
            " [6672 9258 9781 6672 7702    0    0    0    0    0]\n",
            " [4989 9781 9394    0    0    0    0    0    0    0]]\n"
          ],
          "name": "stdout"
        }
      ]
    },
    {
      "cell_type": "code",
      "metadata": {
        "id": "-Ti0fdAuu_2G",
        "colab_type": "code",
        "outputId": "887c030d-78de-410f-9cf1-a0cf5a0f64b8",
        "colab": {
          "base_uri": "https://localhost:8080/",
          "height": 1000
        }
      },
      "source": [
        "model = Sequential()\n",
        "\n",
        "model.add(Embedding(vocab_size, embedding_length, input_length=max_doc_len))\n",
        "model.add(LSTM(units=64))\n",
        "\n",
        "model.compile('rmsprop', 'mse')\n",
        "\n",
        "model.summary()\n",
        "\n",
        "output = model.predict(encoded_docs)\n",
        "print(output.shape)\n",
        "print(output)"
      ],
      "execution_count": 10,
      "outputs": [
        {
          "output_type": "stream",
          "text": [
            "Model: \"sequential_3\"\n",
            "_________________________________________________________________\n",
            "Layer (type)                 Output Shape              Param #   \n",
            "=================================================================\n",
            "embedding_3 (Embedding)      (None, 10, 5)             50000     \n",
            "_________________________________________________________________\n",
            "lstm_1 (LSTM)                (None, 64)                17920     \n",
            "=================================================================\n",
            "Total params: 67,920\n",
            "Trainable params: 67,920\n",
            "Non-trainable params: 0\n",
            "_________________________________________________________________\n",
            "(7, 64)\n",
            "[[ 3.13950283e-03  1.01015996e-02 -3.34638683e-03  3.62809398e-03\n",
            "   2.53106724e-03 -1.72645567e-04  5.74721396e-03 -5.05846110e-04\n",
            "   3.20605794e-03  1.80277973e-03  4.35359962e-03 -9.13916156e-04\n",
            "  -2.01384677e-03  2.25054659e-03  5.14183380e-03  4.39426303e-03\n",
            "   2.94907088e-03 -6.26531104e-03 -3.09693953e-03  2.92964815e-03\n",
            "  -5.71163697e-03 -4.24521696e-03 -5.90404496e-04  3.42577300e-03\n",
            "  -5.54022286e-03 -3.94582003e-03  7.25543476e-04 -2.22150492e-03\n",
            "  -1.17151234e-02  3.50075937e-03  3.51631572e-03  6.69510476e-03\n",
            "   4.35145193e-05 -4.06570127e-03  2.71007651e-03  4.66055423e-03\n",
            "  -1.15968834e-03 -4.13182331e-03 -6.38634851e-03 -1.47298409e-03\n",
            "   5.81418537e-03 -3.04715522e-03 -6.20774832e-03 -1.37720630e-03\n",
            "  -2.13956297e-03  3.52311251e-03  1.80989748e-03  8.13520513e-03\n",
            "   2.87923085e-05 -1.77997851e-03  6.69187540e-03  5.54927438e-03\n",
            "   9.75151453e-03  6.21498446e-04 -4.65046475e-03  1.25871040e-04\n",
            "  -1.62008847e-03  2.93352501e-03  1.73994282e-03  5.15896082e-03\n",
            "   8.07978120e-03  5.65771153e-03  1.86639058e-03 -6.27784664e-03]\n",
            " [ 3.41456500e-03  9.83280316e-03 -3.44951544e-03  3.70454439e-03\n",
            "   2.55402387e-03 -5.96628815e-04  5.64516708e-03 -5.99492225e-04\n",
            "   2.98933289e-03  1.73658773e-03  4.56210272e-03 -8.06502241e-04\n",
            "  -1.68219593e-03  2.34161690e-03  4.95771831e-03  4.33817832e-03\n",
            "   2.48929788e-03 -6.04588352e-03 -2.90892972e-03  2.72964942e-03\n",
            "  -5.35261538e-03 -3.94416507e-03 -3.47642344e-04  3.48705892e-03\n",
            "  -5.40276757e-03 -3.66841955e-03  5.02104172e-04 -2.27295351e-03\n",
            "  -1.13913966e-02  3.45382560e-03  3.22823040e-03  6.78049447e-03\n",
            "  -1.31908906e-04 -4.42813849e-03  2.51547876e-03  4.67669079e-03\n",
            "  -9.93510243e-04 -4.30892454e-03 -6.31011231e-03 -1.49036117e-03\n",
            "   5.70601551e-03 -2.90964846e-03 -6.23531407e-03 -1.47277897e-03\n",
            "  -1.91905780e-03  3.28389811e-03  2.07439554e-03  7.76982680e-03\n",
            "   6.63717452e-04 -1.95139926e-03  6.53593428e-03  5.67459734e-03\n",
            "   9.68735106e-03  7.74308864e-04 -4.25671227e-03  1.96910230e-04\n",
            "  -1.91759481e-03  2.54301098e-03  1.66774588e-03  4.86369012e-03\n",
            "   7.91018270e-03  5.41666243e-03  2.15630978e-03 -6.32431498e-03]\n",
            " [ 3.10815452e-03  9.70712304e-03 -3.08990641e-03  3.38520226e-03\n",
            "   2.68743234e-03 -4.84142831e-04  6.11536391e-03 -7.88499892e-04\n",
            "   3.58194415e-03  1.48258707e-03  4.53417934e-03 -9.86182014e-04\n",
            "  -1.87654595e-03  2.36239634e-03  4.74741962e-03  4.85261716e-03\n",
            "   2.81708897e-03 -6.65638363e-03 -2.84152618e-03  2.62210914e-03\n",
            "  -5.67543833e-03 -4.04653000e-03 -6.66721200e-04  3.53017007e-03\n",
            "  -4.84633213e-03 -3.93481040e-03  6.83360500e-04 -2.64713820e-03\n",
            "  -1.14283487e-02  3.62275634e-03  3.30139045e-03  7.11729797e-03\n",
            "   2.48011725e-04 -3.96605534e-03  1.74732343e-03  4.84879082e-03\n",
            "  -1.14078878e-03 -3.91392875e-03 -6.10239059e-03 -1.20451651e-03\n",
            "   5.85836824e-03 -2.92190025e-03 -6.52841944e-03 -2.11954000e-03\n",
            "  -1.32350565e-03  3.20030889e-03  2.02062773e-03  8.31688941e-03\n",
            "   2.66280404e-04 -2.08635163e-03  6.88019162e-03  5.87781612e-03\n",
            "   9.79712419e-03  1.13686651e-03 -4.09340253e-03  6.55504118e-06\n",
            "  -2.07581534e-03  2.36413744e-03  1.24107057e-03  4.71865246e-03\n",
            "   8.43135826e-03  5.93304774e-03  2.18729395e-03 -6.56078616e-03]\n",
            " [ 3.31837311e-03  9.52736754e-03 -2.63736723e-03  3.19302129e-03\n",
            "   2.77577550e-03 -9.06379719e-04  5.32001816e-03 -7.10963563e-04\n",
            "   3.88437510e-03  1.33479957e-03  3.55667179e-03 -1.95480403e-04\n",
            "  -1.64349505e-03  1.32504315e-03  4.62076580e-03  4.61912062e-03\n",
            "   2.97688902e-03 -5.78169571e-03 -2.96798209e-03  2.40300037e-03\n",
            "  -5.41529991e-03 -3.64156323e-03 -6.32370880e-04  3.34126921e-03\n",
            "  -4.81675146e-03 -3.44981044e-03  6.75197050e-04 -1.95580046e-03\n",
            "  -1.03627024e-02  3.49246361e-03  2.75672111e-03  6.48359628e-03\n",
            "   4.78147704e-04 -4.03837720e-03  1.54442724e-03  4.05177195e-03\n",
            "  -1.07101316e-03 -4.26059775e-03 -5.97062847e-03 -8.63539346e-04\n",
            "   5.26502402e-03 -2.98847677e-03 -5.98406745e-03 -2.16905517e-03\n",
            "  -7.39311858e-04  3.22758895e-03  2.12125550e-03  7.55875232e-03\n",
            "   1.50646607e-04 -1.87357166e-03  6.47449773e-03  4.82110307e-03\n",
            "   8.89316015e-03  1.32317701e-03 -3.59172560e-03 -3.39508078e-05\n",
            "  -2.36591883e-03  2.09166133e-03  1.05319056e-03  4.48784372e-03\n",
            "   7.55767804e-03  5.75308176e-03  1.58811198e-03 -5.39974822e-03]\n",
            " [ 2.01911875e-03  5.19597996e-03 -1.44430704e-03  3.02918116e-03\n",
            "   2.03219755e-03 -1.91990519e-04  3.27906245e-03 -1.46462955e-03\n",
            "   3.34435864e-03  4.67196660e-04  2.57354486e-03  5.08698286e-04\n",
            "  -1.60166284e-03  1.61143241e-03  2.97202496e-03  4.63304762e-03\n",
            "   5.34554652e-04 -4.63208230e-03 -1.46978244e-03  1.82535115e-03\n",
            "  -4.26201709e-03 -1.31065387e-03 -6.09476177e-04  1.47335697e-03\n",
            "  -1.55644410e-03 -9.96176735e-04 -2.64761155e-04 -1.05725531e-03\n",
            "  -6.49422081e-03  3.24535486e-03  1.29472662e-03  4.81653726e-03\n",
            "   3.46137764e-04 -2.34523998e-03  1.00772572e-03  2.22057919e-03\n",
            "  -1.29332987e-03 -2.13531032e-03 -3.37900547e-03 -2.49815610e-04\n",
            "   4.31252085e-03 -2.13418412e-03 -4.02638363e-03 -2.35836254e-03\n",
            "   1.64832419e-03  2.97600287e-03  1.22432131e-03  4.34396230e-03\n",
            "   2.41428323e-04 -2.13078386e-03  3.94890970e-03  2.86671333e-03\n",
            "   6.28699781e-03  1.18930114e-03 -2.64878268e-03  1.18854176e-03\n",
            "  -2.67196679e-03  3.67951521e-04  8.75022786e-04  2.35135690e-03\n",
            "   5.56815462e-03  2.62646284e-03  2.28133192e-03 -3.92233301e-03]\n",
            " [ 3.26091005e-03  8.15526210e-03 -2.88929464e-03  3.52667179e-03\n",
            "   2.57395511e-03 -1.03244954e-03  5.47219068e-03 -1.31903635e-03\n",
            "   3.88196344e-03  1.15163322e-03  4.01044171e-03 -5.54199272e-04\n",
            "  -1.43298204e-03  1.70235848e-03  3.80508834e-03  4.46727872e-03\n",
            "   2.20021210e-03 -6.42761355e-03 -2.72779027e-03  2.09835730e-03\n",
            "  -4.20443062e-03 -3.07239918e-03  4.06404259e-04  3.38189723e-03\n",
            "  -4.63685906e-03 -3.66380834e-03  2.66691874e-04 -2.31442670e-03\n",
            "  -1.01527749e-02  3.72397061e-03  3.01745883e-03  6.04722369e-03\n",
            "  -6.59836733e-05 -4.12274804e-03  1.38620252e-03  4.39932477e-03\n",
            "  -5.55884762e-05 -3.91292199e-03 -4.69773170e-03 -1.49906543e-03\n",
            "   4.54920437e-03 -2.50289566e-03 -5.74608799e-03 -1.95449311e-03\n",
            "  -7.07412604e-04  3.22427135e-03  1.74942368e-03  7.33716460e-03\n",
            "   1.36677083e-03 -1.46409904e-03  5.82794147e-03  5.23297535e-03\n",
            "   8.19215178e-03  1.33242505e-03 -3.21841054e-03  2.63259048e-04\n",
            "  -2.27150903e-03  1.55994017e-03  1.44619064e-03  3.16981389e-03\n",
            "   8.24297033e-03  4.99565760e-03  1.42975792e-03 -6.41909894e-03]\n",
            " [ 3.89328552e-03  1.02158394e-02 -3.56253260e-03  3.13397450e-03\n",
            "   2.91627063e-03 -1.51258009e-03  6.42509153e-03 -5.41787536e-04\n",
            "   3.44789121e-03  1.50168256e-03  5.29380701e-03 -8.76748818e-04\n",
            "  -9.16704535e-04  1.90126139e-03  5.05147455e-03  4.23257612e-03\n",
            "   3.08597297e-03 -6.19388372e-03 -2.64396309e-03  1.99156883e-03\n",
            "  -4.99620242e-03 -4.68338095e-03 -3.79009318e-04  4.09904355e-03\n",
            "  -5.65971155e-03 -3.99373565e-03  6.75778079e-04 -3.02061765e-03\n",
            "  -1.18979346e-02  3.35562020e-03  3.41836154e-03  7.54112005e-03\n",
            "   2.74687336e-04 -4.57764883e-03  1.67987740e-03  5.32428827e-03\n",
            "  -5.91266551e-04 -4.68988856e-03 -6.95943832e-03 -1.38550042e-03\n",
            "   5.60604315e-03 -2.62771896e-03 -6.85885688e-03 -2.24407110e-03\n",
            "  -1.73247349e-03  2.49548908e-03  2.95365951e-03  8.70820880e-03\n",
            "   1.26358145e-03 -2.07105628e-03  7.44460197e-03  7.01772049e-03\n",
            "   1.03613585e-02  1.83866406e-03 -3.80202197e-03 -5.75936690e-04\n",
            "  -2.50307703e-03  2.10769265e-03  8.45359231e-04  4.75364598e-03\n",
            "   8.32469761e-03  6.75307959e-03  1.92110240e-03 -6.79045683e-03]]\n"
          ],
          "name": "stdout"
        }
      ]
    },
    {
      "cell_type": "markdown",
      "metadata": {
        "id": "y5wSoDs6apqX",
        "colab_type": "text"
      },
      "source": [
        "##Putting it together\n",
        "#Sentiment Analysis in Keras"
      ]
    },
    {
      "cell_type": "markdown",
      "metadata": {
        "id": "6HCdVXd4dIHD",
        "colab_type": "text"
      },
      "source": [
        "Import libraries and dataset"
      ]
    },
    {
      "cell_type": "code",
      "metadata": {
        "id": "lBBWwNwXa0NT",
        "colab_type": "code",
        "outputId": "131c7957-3240-41bf-ddbd-d6f7fb6b7fe5",
        "colab": {
          "base_uri": "https://localhost:8080/",
          "height": 68
        }
      },
      "source": [
        "import keras\n",
        "from keras.preprocessing import sequence\n",
        "from keras.models import Sequential\n",
        "from keras.layers import Dense, Embedding\n",
        "from keras.layers import LSTM\n",
        "from keras.datasets import imdb\n",
        "\n",
        "max_words = 20000\n",
        "\n",
        "print('Loading data...')\n",
        "(x_train, y_train), (x_test, y_test) = imdb.load_data(num_words=max_words)\n",
        "print(len(x_train), 'train sequences')\n",
        "print(len(x_test), 'test sequences')"
      ],
      "execution_count": 11,
      "outputs": [
        {
          "output_type": "stream",
          "text": [
            "Loading data...\n",
            "25000 train sequences\n",
            "25000 test sequences\n"
          ],
          "name": "stdout"
        }
      ]
    },
    {
      "cell_type": "markdown",
      "metadata": {
        "id": "QmcFMI5xdSLo",
        "colab_type": "text"
      },
      "source": [
        "Pre-processing"
      ]
    },
    {
      "cell_type": "code",
      "metadata": {
        "id": "8sO2izaIblIB",
        "colab_type": "code",
        "outputId": "b1886b14-ea12-4359-fe1d-2f0e9bafe892",
        "colab": {
          "base_uri": "https://localhost:8080/",
          "height": 51
        }
      },
      "source": [
        "# cut texts after this number of words (among top max_features most common words)\n",
        "max_review_length = 80\n",
        "\n",
        "x_train = sequence.pad_sequences(x_train, truncating='pre', padding='pre', maxlen=max_review_length)\n",
        "x_test = sequence.pad_sequences(x_test, truncating='pre', padding='pre', maxlen=max_review_length)\n",
        "\n",
        "print('x_train shape:', x_train.shape)\n",
        "print('x_test shape:', x_test.shape)"
      ],
      "execution_count": 12,
      "outputs": [
        {
          "output_type": "stream",
          "text": [
            "x_train shape: (25000, 80)\n",
            "x_test shape: (25000, 80)\n"
          ],
          "name": "stdout"
        }
      ]
    },
    {
      "cell_type": "markdown",
      "metadata": {
        "id": "a2bYFCzkdWF3",
        "colab_type": "text"
      },
      "source": [
        "Build the model"
      ]
    },
    {
      "cell_type": "code",
      "metadata": {
        "id": "SdTLNwMZdXxx",
        "colab_type": "code",
        "outputId": "3a6be68c-9ad8-4aae-909d-aff710b7cea4",
        "colab": {
          "base_uri": "https://localhost:8080/",
          "height": 139
        }
      },
      "source": [
        "print('Build model...')\n",
        "embedding_length = 64\n",
        "model = Sequential()\n",
        "model.add(Embedding(input_dim=max_words, output_dim=embedding_length, input_length=max_review_length))\n",
        "model.add(LSTM(units=64, input_shape=(max_review_length, embedding_length), return_sequences=False, unroll=True))\n",
        "model.add(Dense(1, activation='sigmoid'))\n",
        "\n",
        "# try using different optimizers and different optimizer configs\n",
        "model.compile(loss='binary_crossentropy',\n",
        "              optimizer='adam',\n",
        "              metrics=['accuracy'])\n"
      ],
      "execution_count": 13,
      "outputs": [
        {
          "output_type": "stream",
          "text": [
            "Build model...\n",
            "WARNING:tensorflow:From /usr/local/lib/python3.6/dist-packages/keras/backend/tensorflow_backend.py:3657: The name tf.log is deprecated. Please use tf.math.log instead.\n",
            "\n",
            "WARNING:tensorflow:From /usr/local/lib/python3.6/dist-packages/tensorflow_core/python/ops/nn_impl.py:183: where (from tensorflow.python.ops.array_ops) is deprecated and will be removed in a future version.\n",
            "Instructions for updating:\n",
            "Use tf.where in 2.0, which has the same broadcast rule as np.where\n"
          ],
          "name": "stdout"
        }
      ]
    },
    {
      "cell_type": "markdown",
      "metadata": {
        "id": "bXHvbvYTemOm",
        "colab_type": "text"
      },
      "source": [
        "Visualize the model"
      ]
    },
    {
      "cell_type": "code",
      "metadata": {
        "id": "mSqWgeMHen45",
        "colab_type": "code",
        "outputId": "6a61ae83-d16d-453c-8e5a-24fdddb6f7e1",
        "colab": {
          "base_uri": "https://localhost:8080/",
          "height": 660
        }
      },
      "source": [
        "#Visualize\n",
        "model.summary()\n",
        "\n",
        "from keras.utils import plot_model\n",
        "plot_model(model, show_shapes=True, to_file='sent_analysis_model.png')"
      ],
      "execution_count": 14,
      "outputs": [
        {
          "output_type": "stream",
          "text": [
            "Model: \"sequential_4\"\n",
            "_________________________________________________________________\n",
            "Layer (type)                 Output Shape              Param #   \n",
            "=================================================================\n",
            "embedding_4 (Embedding)      (None, 80, 64)            1280000   \n",
            "_________________________________________________________________\n",
            "lstm_2 (LSTM)                (None, 64)                33024     \n",
            "_________________________________________________________________\n",
            "dense_1 (Dense)              (None, 1)                 65        \n",
            "=================================================================\n",
            "Total params: 1,313,089\n",
            "Trainable params: 1,313,089\n",
            "Non-trainable params: 0\n",
            "_________________________________________________________________\n"
          ],
          "name": "stdout"
        },
        {
          "output_type": "execute_result",
          "data": {
            "image/png": "[encoded data removed]",
            "text/plain": [
              "<IPython.core.display.Image object>"
            ]
          },
          "metadata": {
            "tags": []
          },
          "execution_count": 14
        }
      ]
    },
    {
      "cell_type": "markdown",
      "metadata": {
        "id": "rlivpi33etbD",
        "colab_type": "text"
      },
      "source": [
        "Train the model"
      ]
    },
    {
      "cell_type": "code",
      "metadata": {
        "id": "bW0cXNCSs_jV",
        "colab_type": "code",
        "outputId": "7bae3498-49e6-4532-9f2e-9e18139941f8",
        "colab": {
          "base_uri": "https://localhost:8080/",
          "height": 408
        }
      },
      "source": [
        "print('Training...')\n",
        "batch_size = 32\n",
        "\n",
        "model.fit(x_train, y_train,\n",
        "          batch_size = batch_size,\n",
        "          epochs=10,\n",
        "          validation_data = (x_test, y_test))"
      ],
      "execution_count": 16,
      "outputs": [
        {
          "output_type": "stream",
          "text": [
            "Training...\n",
            "Train on 25000 samples, validate on 25000 samples\n",
            "Epoch 1/10\n",
            "25000/25000 [==============================] - 64s 3ms/step - loss: 0.3652 - acc: 0.8392 - val_loss: 0.3630 - val_acc: 0.8390\n",
            "Epoch 2/10\n",
            "25000/25000 [==============================] - 63s 3ms/step - loss: 0.2323 - acc: 0.9075 - val_loss: 0.3776 - val_acc: 0.8340\n",
            "Epoch 3/10\n",
            "25000/25000 [==============================] - 63s 3ms/step - loss: 0.1481 - acc: 0.9447 - val_loss: 0.5639 - val_acc: 0.8254\n",
            "Epoch 4/10\n",
            "25000/25000 [==============================] - 63s 3ms/step - loss: 0.1006 - acc: 0.9638 - val_loss: 0.5388 - val_acc: 0.8031\n",
            "Epoch 5/10\n",
            "25000/25000 [==============================] - 64s 3ms/step - loss: 0.0642 - acc: 0.9781 - val_loss: 0.5743 - val_acc: 0.7786\n",
            "Epoch 6/10\n",
            "25000/25000 [==============================] - 63s 3ms/step - loss: 0.0524 - acc: 0.9824 - val_loss: 0.7319 - val_acc: 0.8124\n",
            "Epoch 7/10\n",
            "25000/25000 [==============================] - 63s 3ms/step - loss: 0.0389 - acc: 0.9868 - val_loss: 0.8060 - val_acc: 0.8082\n",
            "Epoch 8/10\n",
            "25000/25000 [==============================] - 63s 3ms/step - loss: 0.0327 - acc: 0.9895 - val_loss: 0.8734 - val_acc: 0.8111\n",
            "Epoch 9/10\n",
            "25000/25000 [==============================] - 65s 3ms/step - loss: 0.0267 - acc: 0.9912 - val_loss: 0.9345 - val_acc: 0.8105\n",
            "Epoch 10/10\n",
            "25000/25000 [==============================] - 68s 3ms/step - loss: 0.0197 - acc: 0.9938 - val_loss: 1.0639 - val_acc: 0.8072\n"
          ],
          "name": "stdout"
        },
        {
          "output_type": "execute_result",
          "data": {
            "text/plain": [
              "<keras.callbacks.History at 0x7f4ec4943a20>"
            ]
          },
          "metadata": {
            "tags": []
          },
          "execution_count": 16
        }
      ]
    },
    {
      "cell_type": "markdown",
      "metadata": {
        "id": "_1zk1kbMfFx2",
        "colab_type": "text"
      },
      "source": [
        "Evaluate the model"
      ]
    },
    {
      "cell_type": "code",
      "metadata": {
        "id": "7e3T3p-60CSz",
        "colab_type": "code",
        "outputId": "9d357b4f-b4b7-4a5b-c631-31ebcd7f8c84",
        "colab": {
          "base_uri": "https://localhost:8080/",
          "height": 68
        }
      },
      "source": [
        "score, acc = model.evaluate(x_test, y_test, batch_size=batch_size)\n",
        "print(f'Test score = {score}')\n",
        "print(f'Test accuracy = {acc}')"
      ],
      "execution_count": 17,
      "outputs": [
        {
          "output_type": "stream",
          "text": [
            "25000/25000 [==============================] - 14s 555us/step\n",
            "Test score = 1.0638728787899017\n",
            "Test accuracy = 0.80716\n"
          ],
          "name": "stdout"
        }
      ]
    },
    {
      "cell_type": "markdown",
      "metadata": {
        "id": "UVbhTCRyfS62",
        "colab_type": "text"
      },
      "source": [
        "Making predictions with model"
      ]
    },
    {
      "cell_type": "code",
      "metadata": {
        "id": "W-ITY-7Mhc8X",
        "colab_type": "code",
        "outputId": "6ed15593-d061-433f-a1a7-1a952d36d427",
        "colab": {
          "base_uri": "https://localhost:8080/",
          "height": 68
        }
      },
      "source": [
        "#review = \"The movie was a great waste of time.\"\n",
        "review = \"It was a great movie.\"\n",
        "print(f'New review = {review}')\n",
        "\n",
        "d = imdb.get_word_index()\n",
        "words = review.split()\n",
        "review = []\n",
        "\n",
        "for word in words:\n",
        "  if word not in d:\n",
        "    review.append(2)\n",
        "  else:\n",
        "    review.append(d[word] + 3)\n",
        "  \n",
        "print(f\"review = {review}\")\n",
        "\n",
        "review = sequence.pad_sequences([review], truncating='pre', padding='pre', maxlen=80)\n",
        "\n",
        "prediction = model.predict(review)\n",
        "print(f'Prediction (0 = Negative, 1 = positive) = {prediction}')"
      ],
      "execution_count": 19,
      "outputs": [
        {
          "output_type": "stream",
          "text": [
            "New review = It was a great movie.\n",
            "review = [2, 16, 6, 87, 2]\n",
            "Prediction (0 = Negative, 1 = positive) = [[0.05725674]]\n"
          ],
          "name": "stdout"
        }
      ]
    },
    {
      "cell_type": "code",
      "metadata": {
        "id": "KbcPum0k2kX_",
        "colab_type": "code",
        "colab": {}
      },
      "source": [
        ""
      ],
      "execution_count": 0,
      "outputs": []
    }
  ]
}