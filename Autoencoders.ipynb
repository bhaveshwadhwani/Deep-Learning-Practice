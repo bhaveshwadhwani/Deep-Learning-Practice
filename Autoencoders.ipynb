{
  "nbformat": 4,
  "nbformat_minor": 0,
  "metadata": {
    "colab": {
      "name": "Autoencoders.ipynb",
      "provenance": [],
      "collapsed_sections": [],
      "authorship_tag": "ABX9TyMlnFn+lCRxFF1urGEygiIZ",
      "include_colab_link": true
    },
    "kernelspec": {
      "name": "python3",
      "display_name": "Python 3"
    },
    "accelerator": "GPU"
  },
  "cells": [
    {
      "cell_type": "markdown",
      "metadata": {
        "id": "view-in-github",
        "colab_type": "text"
      },
      "source": [
        "<a href=\"https://colab.research.google.com/github/bhaveshwadhwani/Deep-Learning-Practice/blob/master/Autoencoders.ipynb\" target=\"_parent\"><img src=\"https://colab.research.google.com/assets/colab-badge.svg\" alt=\"Open In Colab\"/></a>"
      ]
    },
    {
      "cell_type": "code",
      "metadata": {
        "id": "VAqDoQO1QAsf",
        "colab_type": "code",
        "colab": {
          "base_uri": "https://localhost:8080/",
          "height": 80
        },
        "outputId": "205ca284-8326-4b5c-cf64-168a08f3c02b"
      },
      "source": [
        "from keras.models import Model\n",
        "from keras.layers import Input, Dense\n",
        "from keras.datasets import mnist\n",
        "import numpy as np\n",
        "import matplotlib.pyplot as plt\n"
      ],
      "execution_count": 2,
      "outputs": [
        {
          "output_type": "stream",
          "text": [
            "Using TensorFlow backend.\n"
          ],
          "name": "stderr"
        },
        {
          "output_type": "display_data",
          "data": {
            "text/html": [
              "<p style=\"color: red;\">\n",
              "The default version of TensorFlow in Colab will soon switch to TensorFlow 2.x.<br>\n",
              "We recommend you <a href=\"https://www.tensorflow.org/guide/migrate\" target=\"_blank\">upgrade</a> now \n",
              "or ensure your notebook will continue to use TensorFlow 1.x via the <code>%tensorflow_version 1.x</code> magic:\n",
              "<a href=\"https://colab.research.google.com/notebooks/tensorflow_version.ipynb\" target=\"_blank\">more info</a>.</p>\n"
            ],
            "text/plain": [
              "<IPython.core.display.HTML object>"
            ]
          },
          "metadata": {
            "tags": []
          }
        }
      ]
    },
    {
      "cell_type": "code",
      "metadata": {
        "id": "u_ft5xjRSSi-",
        "colab_type": "code",
        "colab": {}
      },
      "source": [
        "encoding_dim = 64"
      ],
      "execution_count": 0,
      "outputs": []
    },
    {
      "cell_type": "code",
      "metadata": {
        "id": "Dc6DX4_aSZhu",
        "colab_type": "code",
        "colab": {
          "base_uri": "https://localhost:8080/",
          "height": 139
        },
        "outputId": "32b953d2-b162-4778-81d7-5544ad3d26bd"
      },
      "source": [
        "input_img = Input(shape=(784,))\n",
        "encoded = Dense(encoding_dim,activation='relu')(input_img)\n",
        "decoded = Dense(784,activation='sigmoid')(encoded)\n",
        "\n",
        "autoencoder = Model(input_img,decoded)\n",
        "\n",
        "# encoder = Model(input_img, encoded)\n",
        "\n",
        "# encoded_input = Input(shape=(encoding_dim,))\n",
        "\n",
        "# decoder_layer = autoencoder.layers[-1]\n",
        "\n",
        "# decoder = Model(encoded_input, decoder_layer(encoded_input))"
      ],
      "execution_count": 3,
      "outputs": [
        {
          "output_type": "stream",
          "text": [
            "WARNING:tensorflow:From /usr/local/lib/python3.6/dist-packages/keras/backend/tensorflow_backend.py:66: The name tf.get_default_graph is deprecated. Please use tf.compat.v1.get_default_graph instead.\n",
            "\n",
            "WARNING:tensorflow:From /usr/local/lib/python3.6/dist-packages/keras/backend/tensorflow_backend.py:541: The name tf.placeholder is deprecated. Please use tf.compat.v1.placeholder instead.\n",
            "\n",
            "WARNING:tensorflow:From /usr/local/lib/python3.6/dist-packages/keras/backend/tensorflow_backend.py:4432: The name tf.random_uniform is deprecated. Please use tf.random.uniform instead.\n",
            "\n"
          ],
          "name": "stdout"
        }
      ]
    },
    {
      "cell_type": "code",
      "metadata": {
        "id": "5muLCWxYUcds",
        "colab_type": "code",
        "colab": {
          "base_uri": "https://localhost:8080/",
          "height": 156
        },
        "outputId": "6f599406-0763-4cbc-f30c-ed3a63c33d12"
      },
      "source": [
        "autoencoder.compile(optimizer='adadelta',loss='binary_crossentropy')"
      ],
      "execution_count": 4,
      "outputs": [
        {
          "output_type": "stream",
          "text": [
            "WARNING:tensorflow:From /usr/local/lib/python3.6/dist-packages/keras/optimizers.py:793: The name tf.train.Optimizer is deprecated. Please use tf.compat.v1.train.Optimizer instead.\n",
            "\n",
            "WARNING:tensorflow:From /usr/local/lib/python3.6/dist-packages/keras/backend/tensorflow_backend.py:3657: The name tf.log is deprecated. Please use tf.math.log instead.\n",
            "\n",
            "WARNING:tensorflow:From /usr/local/lib/python3.6/dist-packages/tensorflow_core/python/ops/nn_impl.py:183: where (from tensorflow.python.ops.array_ops) is deprecated and will be removed in a future version.\n",
            "Instructions for updating:\n",
            "Use tf.where in 2.0, which has the same broadcast rule as np.where\n"
          ],
          "name": "stdout"
        }
      ]
    },
    {
      "cell_type": "code",
      "metadata": {
        "id": "UCv5H5diUoiE",
        "colab_type": "code",
        "colab": {
          "base_uri": "https://localhost:8080/",
          "height": 119
        },
        "outputId": "abca52b9-bccd-4370-b5db-41ec746cef78"
      },
      "source": [
        "(x_train, _ ),(x_test, _) = mnist.load_data()\n",
        "\n",
        "x_train =  x_train.astype('float32')/255\n",
        "x_test =  x_test.astype('float32')/255\n",
        "print(f'x_train shape = {x_train.shape}')\n",
        "print(f'x_test shape = {x_test.shape}')\n",
        "\n",
        "\n",
        "x_train = x_train.reshape((len(x_train), (np.prod(x_train.shape[1:]))))\n",
        "x_test = x_test.reshape((len(x_test), (np.prod(x_test.shape[1:]))))\n",
        "print(f'x_train shape = {x_train.shape}')\n",
        "print(f'x_test shape = {x_test.shape}')"
      ],
      "execution_count": 5,
      "outputs": [
        {
          "output_type": "stream",
          "text": [
            "Downloading data from https://s3.amazonaws.com/img-datasets/mnist.npz\n",
            "11493376/11490434 [==============================] - 1s 0us/step\n",
            "x_train shape = (60000, 28, 28)\n",
            "x_test shape = (10000, 28, 28)\n",
            "x_train shape = (60000, 784)\n",
            "x_test shape = (10000, 784)\n"
          ],
          "name": "stdout"
        }
      ]
    },
    {
      "cell_type": "code",
      "metadata": {
        "id": "AAsv75poV20d",
        "colab_type": "code",
        "colab": {
          "base_uri": "https://localhost:8080/",
          "height": 1000
        },
        "outputId": "61e4c507-5bee-4d74-a3b1-4d6d74cda1bd"
      },
      "source": [
        "autoencoder.fit(x_train,x_train,epochs=50,batch_size=256,shuffle=True,validation_data=(x_test,x_test))"
      ],
      "execution_count": 6,
      "outputs": [
        {
          "output_type": "stream",
          "text": [
            "WARNING:tensorflow:From /usr/local/lib/python3.6/dist-packages/keras/backend/tensorflow_backend.py:1033: The name tf.assign_add is deprecated. Please use tf.compat.v1.assign_add instead.\n",
            "\n",
            "WARNING:tensorflow:From /usr/local/lib/python3.6/dist-packages/keras/backend/tensorflow_backend.py:1020: The name tf.assign is deprecated. Please use tf.compat.v1.assign instead.\n",
            "\n",
            "WARNING:tensorflow:From /usr/local/lib/python3.6/dist-packages/keras/backend/tensorflow_backend.py:3005: The name tf.Session is deprecated. Please use tf.compat.v1.Session instead.\n",
            "\n",
            "Train on 60000 samples, validate on 10000 samples\n",
            "Epoch 1/50\n",
            "WARNING:tensorflow:From /usr/local/lib/python3.6/dist-packages/keras/backend/tensorflow_backend.py:190: The name tf.get_default_session is deprecated. Please use tf.compat.v1.get_default_session instead.\n",
            "\n",
            "WARNING:tensorflow:From /usr/local/lib/python3.6/dist-packages/keras/backend/tensorflow_backend.py:197: The name tf.ConfigProto is deprecated. Please use tf.compat.v1.ConfigProto instead.\n",
            "\n",
            "WARNING:tensorflow:From /usr/local/lib/python3.6/dist-packages/keras/backend/tensorflow_backend.py:207: The name tf.global_variables is deprecated. Please use tf.compat.v1.global_variables instead.\n",
            "\n",
            "WARNING:tensorflow:From /usr/local/lib/python3.6/dist-packages/keras/backend/tensorflow_backend.py:216: The name tf.is_variable_initialized is deprecated. Please use tf.compat.v1.is_variable_initialized instead.\n",
            "\n",
            "WARNING:tensorflow:From /usr/local/lib/python3.6/dist-packages/keras/backend/tensorflow_backend.py:223: The name tf.variables_initializer is deprecated. Please use tf.compat.v1.variables_initializer instead.\n",
            "\n",
            "60000/60000 [==============================] - 5s 76us/step - loss: 0.3498 - val_loss: 0.2680\n",
            "Epoch 2/50\n",
            "60000/60000 [==============================] - 4s 66us/step - loss: 0.2577 - val_loss: 0.2437\n",
            "Epoch 3/50\n",
            "60000/60000 [==============================] - 4s 66us/step - loss: 0.2336 - val_loss: 0.2213\n",
            "Epoch 4/50\n",
            "60000/60000 [==============================] - 4s 66us/step - loss: 0.2139 - val_loss: 0.2042\n",
            "Epoch 5/50\n",
            "60000/60000 [==============================] - 4s 66us/step - loss: 0.1991 - val_loss: 0.1916\n",
            "Epoch 6/50\n",
            "60000/60000 [==============================] - 4s 65us/step - loss: 0.1880 - val_loss: 0.1818\n",
            "Epoch 7/50\n",
            "60000/60000 [==============================] - 4s 66us/step - loss: 0.1792 - val_loss: 0.1738\n",
            "Epoch 8/50\n",
            "60000/60000 [==============================] - 4s 66us/step - loss: 0.1718 - val_loss: 0.1671\n",
            "Epoch 9/50\n",
            "60000/60000 [==============================] - 4s 66us/step - loss: 0.1656 - val_loss: 0.1612\n",
            "Epoch 10/50\n",
            "60000/60000 [==============================] - 4s 65us/step - loss: 0.1600 - val_loss: 0.1561\n",
            "Epoch 11/50\n",
            "60000/60000 [==============================] - 4s 66us/step - loss: 0.1552 - val_loss: 0.1515\n",
            "Epoch 12/50\n",
            "60000/60000 [==============================] - 4s 66us/step - loss: 0.1508 - val_loss: 0.1474\n",
            "Epoch 13/50\n",
            "60000/60000 [==============================] - 4s 66us/step - loss: 0.1468 - val_loss: 0.1435\n",
            "Epoch 14/50\n",
            "60000/60000 [==============================] - 4s 66us/step - loss: 0.1432 - val_loss: 0.1402\n",
            "Epoch 15/50\n",
            "60000/60000 [==============================] - 4s 66us/step - loss: 0.1399 - val_loss: 0.1368\n",
            "Epoch 16/50\n",
            "60000/60000 [==============================] - 4s 65us/step - loss: 0.1368 - val_loss: 0.1338\n",
            "Epoch 17/50\n",
            "60000/60000 [==============================] - 4s 65us/step - loss: 0.1339 - val_loss: 0.1311\n",
            "Epoch 18/50\n",
            "60000/60000 [==============================] - 4s 65us/step - loss: 0.1312 - val_loss: 0.1284\n",
            "Epoch 19/50\n",
            "60000/60000 [==============================] - 4s 65us/step - loss: 0.1286 - val_loss: 0.1259\n",
            "Epoch 20/50\n",
            "60000/60000 [==============================] - 4s 66us/step - loss: 0.1261 - val_loss: 0.1234\n",
            "Epoch 21/50\n",
            "60000/60000 [==============================] - 4s 66us/step - loss: 0.1237 - val_loss: 0.1211\n",
            "Epoch 22/50\n",
            "60000/60000 [==============================] - 4s 66us/step - loss: 0.1215 - val_loss: 0.1189\n",
            "Epoch 23/50\n",
            "60000/60000 [==============================] - 4s 66us/step - loss: 0.1193 - val_loss: 0.1168\n",
            "Epoch 24/50\n",
            "60000/60000 [==============================] - 4s 65us/step - loss: 0.1173 - val_loss: 0.1148\n",
            "Epoch 25/50\n",
            "60000/60000 [==============================] - 4s 66us/step - loss: 0.1154 - val_loss: 0.1130\n",
            "Epoch 26/50\n",
            "60000/60000 [==============================] - 4s 65us/step - loss: 0.1136 - val_loss: 0.1112\n",
            "Epoch 27/50\n",
            "60000/60000 [==============================] - 4s 65us/step - loss: 0.1119 - val_loss: 0.1095\n",
            "Epoch 28/50\n",
            "60000/60000 [==============================] - 4s 69us/step - loss: 0.1103 - val_loss: 0.1080\n",
            "Epoch 29/50\n",
            "60000/60000 [==============================] - 4s 68us/step - loss: 0.1088 - val_loss: 0.1065\n",
            "Epoch 30/50\n",
            "60000/60000 [==============================] - 4s 66us/step - loss: 0.1074 - val_loss: 0.1052\n",
            "Epoch 31/50\n",
            "60000/60000 [==============================] - 4s 67us/step - loss: 0.1061 - val_loss: 0.1040\n",
            "Epoch 32/50\n",
            "60000/60000 [==============================] - 4s 69us/step - loss: 0.1049 - val_loss: 0.1028\n",
            "Epoch 33/50\n",
            "60000/60000 [==============================] - 4s 67us/step - loss: 0.1038 - val_loss: 0.1017\n",
            "Epoch 34/50\n",
            "60000/60000 [==============================] - 4s 64us/step - loss: 0.1027 - val_loss: 0.1007\n",
            "Epoch 35/50\n",
            "60000/60000 [==============================] - 4s 66us/step - loss: 0.1017 - val_loss: 0.0998\n",
            "Epoch 36/50\n",
            "60000/60000 [==============================] - 4s 65us/step - loss: 0.1008 - val_loss: 0.0989\n",
            "Epoch 37/50\n",
            "60000/60000 [==============================] - 4s 66us/step - loss: 0.1000 - val_loss: 0.0981\n",
            "Epoch 38/50\n",
            "60000/60000 [==============================] - 4s 65us/step - loss: 0.0991 - val_loss: 0.0973\n",
            "Epoch 39/50\n",
            "60000/60000 [==============================] - 4s 65us/step - loss: 0.0984 - val_loss: 0.0966\n",
            "Epoch 40/50\n",
            "60000/60000 [==============================] - 4s 65us/step - loss: 0.0977 - val_loss: 0.0959\n",
            "Epoch 41/50\n",
            "60000/60000 [==============================] - 4s 66us/step - loss: 0.0970 - val_loss: 0.0952\n",
            "Epoch 42/50\n",
            "60000/60000 [==============================] - 4s 65us/step - loss: 0.0963 - val_loss: 0.0946\n",
            "Epoch 43/50\n",
            "60000/60000 [==============================] - 4s 66us/step - loss: 0.0957 - val_loss: 0.0940\n",
            "Epoch 44/50\n",
            "60000/60000 [==============================] - 4s 66us/step - loss: 0.0952 - val_loss: 0.0935\n",
            "Epoch 45/50\n",
            "60000/60000 [==============================] - 4s 66us/step - loss: 0.0946 - val_loss: 0.0929\n",
            "Epoch 46/50\n",
            "60000/60000 [==============================] - 4s 66us/step - loss: 0.0941 - val_loss: 0.0924\n",
            "Epoch 47/50\n",
            "60000/60000 [==============================] - 4s 66us/step - loss: 0.0936 - val_loss: 0.0920\n",
            "Epoch 48/50\n",
            "60000/60000 [==============================] - 4s 65us/step - loss: 0.0931 - val_loss: 0.0915\n",
            "Epoch 49/50\n",
            "60000/60000 [==============================] - 4s 66us/step - loss: 0.0927 - val_loss: 0.0911\n",
            "Epoch 50/50\n",
            "60000/60000 [==============================] - 4s 66us/step - loss: 0.0922 - val_loss: 0.0907\n"
          ],
          "name": "stdout"
        },
        {
          "output_type": "execute_result",
          "data": {
            "text/plain": [
              "<keras.callbacks.History at 0x7f414eba4f98>"
            ]
          },
          "metadata": {
            "tags": []
          },
          "execution_count": 6
        }
      ]
    },
    {
      "cell_type": "code",
      "metadata": {
        "id": "Wnqf6xx7WKmx",
        "colab_type": "code",
        "colab": {}
      },
      "source": [
        "# encoded_imgs = encoder.predict(x_test)\n",
        "# decoded_imgs = decoder.predict(encoded_imgs)\n",
        "\n",
        "decoded_imgs = autoencoder.predict(x_test)"
      ],
      "execution_count": 0,
      "outputs": []
    },
    {
      "cell_type": "code",
      "metadata": {
        "id": "cZ9hMOVwYmTo",
        "colab_type": "code",
        "colab": {
          "base_uri": "https://localhost:8080/",
          "height": 360
        },
        "outputId": "82ae89ae-dea9-4f65-c897-400016cd5dcc"
      },
      "source": [
        "n=10\n",
        "plt.figure(figsize=(20,4))\n",
        "\n",
        "for i in range(n):\n",
        "    ax = plt.subplot(2, n, i+1)\n",
        "    plt.imshow(x_test[i].reshape(28,28))\n",
        "    plt.gray()\n",
        "    ax.get_xaxis().set_visible(False)\n",
        "    ax.get_yaxis().set_visible(False)\n",
        "    \n",
        "    ax = plt.subplot(2, n, i+1+n)\n",
        "    plt.imshow(decoded_imgs[i].reshape(28,28))\n",
        "    plt.gray()\n",
        "    ax.get_xaxis().set_visible(False)\n",
        "    ax.get_yaxis().set_visible(False)\n",
        "\n",
        "\n",
        "plt.show()\n",
        "\n",
        "plt.figure(figsize=(20,4))\n",
        "for i in range(n):\n",
        "    ax = plt.subplot(1, n, i+1)\n",
        "    plt.imshow(encode_imgs[i].reshape(8,8))\n",
        "    plt.gray()\n",
        "    ax.get_xaxis().set_visible(False)\n",
        "    ax.get_yaxis().set_visible(False)\n",
        "plt.show()"
      ],
      "execution_count": 13,
      "outputs": [
        {
          "output_type": "display_data",
          "data": {
            "image/png": "[encoded data removed]",
            "text/plain": [
              "<Figure size 1440x288 with 20 Axes>"
            ]
          },
          "metadata": {
            "tags": []
          }
        },
        {
          "output_type": "display_data",
          "data": {
            "image/png": "[encoded data removed]",
            "text/plain": [
              "<Figure size 1440x288 with 10 Axes>"
            ]
          },
          "metadata": {
            "tags": []
          }
        }
      ]
    },
    {
      "cell_type": "markdown",
      "metadata": {
        "id": "733z0lvhejT5",
        "colab_type": "text"
      },
      "source": [
        "## Define Model"
      ]
    },
    {
      "cell_type": "code",
      "metadata": {
        "id": "Z9EgQ502ZNoP",
        "colab_type": "code",
        "colab": {}
      },
      "source": [
        "from keras.models import Sequential\n",
        "model = Sequential()\n",
        "\n",
        "model.add(Dense(128,activation='relu',input_dim=784))\n",
        "model.add(Dense(64,activation='relu'))\n",
        "\n",
        "model.add(Dense(128,activation='relu'))\n",
        "model.add(Dense(784,activation='sigmoid'))"
      ],
      "execution_count": 0,
      "outputs": []
    },
    {
      "cell_type": "code",
      "metadata": {
        "id": "z9wkLn6XfHRX",
        "colab_type": "code",
        "colab": {}
      },
      "source": [
        "model.compile(optimizer='adadelta',loss='binary_crossentropy')"
      ],
      "execution_count": 0,
      "outputs": []
    },
    {
      "cell_type": "code",
      "metadata": {
        "id": "L5aCuE_1fi5w",
        "colab_type": "code",
        "colab": {
          "base_uri": "https://localhost:8080/",
          "height": 85
        },
        "outputId": "0fa81f61-f6a8-4c59-bcd9-f3def8510886"
      },
      "source": [
        "(x_train, _ ),(x_test, _) = mnist.load_data()\n",
        "\n",
        "x_train =  x_train.astype('float32')/255\n",
        "x_test =  x_test.astype('float32')/255\n",
        "print(f'x_train shape = {x_train.shape}')\n",
        "print(f'x_test shape = {x_test.shape}')\n",
        "\n",
        "\n",
        "x_train = x_train.reshape((len(x_train), (np.prod(x_train.shape[1:]))))\n",
        "x_test = x_test.reshape((len(x_test), (np.prod(x_test.shape[1:]))))\n",
        "print(f'x_train shape = {x_train.shape}')\n",
        "print(f'x_test shape = {x_test.shape}')"
      ],
      "execution_count": 21,
      "outputs": [
        {
          "output_type": "stream",
          "text": [
            "x_train shape = (60000, 28, 28)\n",
            "x_test shape = (10000, 28, 28)\n",
            "x_train shape = (60000, 784)\n",
            "x_test shape = (10000, 784)\n"
          ],
          "name": "stdout"
        }
      ]
    },
    {
      "cell_type": "code",
      "metadata": {
        "id": "he5gHzbmgAVy",
        "colab_type": "code",
        "colab": {
          "base_uri": "https://localhost:8080/",
          "height": 1000
        },
        "outputId": "bcdbb7fa-4276-4f73-8121-292f85765a94"
      },
      "source": [
        "model.fit(x_train,x_train,epochs=50,batch_size=(256),shuffle=True,validation_data=(x_test,x_test))"
      ],
      "execution_count": 22,
      "outputs": [
        {
          "output_type": "stream",
          "text": [
            "Train on 60000 samples, validate on 10000 samples\n",
            "Epoch 1/50\n",
            "60000/60000 [==============================] - 6s 95us/step - loss: 0.3239 - val_loss: 0.2576\n",
            "Epoch 2/50\n",
            "60000/60000 [==============================] - 5s 90us/step - loss: 0.2411 - val_loss: 0.2221\n",
            "Epoch 3/50\n",
            "60000/60000 [==============================] - 5s 90us/step - loss: 0.2094 - val_loss: 0.1950\n",
            "Epoch 4/50\n",
            "60000/60000 [==============================] - 5s 91us/step - loss: 0.1880 - val_loss: 0.1789\n",
            "Epoch 5/50\n",
            "60000/60000 [==============================] - 5s 89us/step - loss: 0.1759 - val_loss: 0.1722\n",
            "Epoch 6/50\n",
            "60000/60000 [==============================] - 5s 90us/step - loss: 0.1676 - val_loss: 0.1613\n",
            "Epoch 7/50\n",
            "60000/60000 [==============================] - 5s 88us/step - loss: 0.1601 - val_loss: 0.1517\n",
            "Epoch 8/50\n",
            "60000/60000 [==============================] - 5s 86us/step - loss: 0.1532 - val_loss: 0.1491\n",
            "Epoch 9/50\n",
            "60000/60000 [==============================] - 5s 86us/step - loss: 0.1466 - val_loss: 0.1405\n",
            "Epoch 10/50\n",
            "60000/60000 [==============================] - 5s 88us/step - loss: 0.1420 - val_loss: 0.1405\n",
            "Epoch 11/50\n",
            "60000/60000 [==============================] - 5s 88us/step - loss: 0.1378 - val_loss: 0.1356\n",
            "Epoch 12/50\n",
            "60000/60000 [==============================] - 5s 88us/step - loss: 0.1352 - val_loss: 0.1337\n",
            "Epoch 13/50\n",
            "60000/60000 [==============================] - 5s 88us/step - loss: 0.1324 - val_loss: 0.1290\n",
            "Epoch 14/50\n",
            "60000/60000 [==============================] - 5s 88us/step - loss: 0.1299 - val_loss: 0.1300\n",
            "Epoch 15/50\n",
            "60000/60000 [==============================] - 5s 87us/step - loss: 0.1288 - val_loss: 0.1266\n",
            "Epoch 16/50\n",
            "60000/60000 [==============================] - 5s 87us/step - loss: 0.1283 - val_loss: 0.1265\n",
            "Epoch 17/50\n",
            "60000/60000 [==============================] - 5s 88us/step - loss: 0.1300 - val_loss: 0.1352\n",
            "Epoch 18/50\n",
            "60000/60000 [==============================] - 5s 87us/step - loss: 0.1337 - val_loss: 0.1323\n",
            "Epoch 19/50\n",
            "60000/60000 [==============================] - 5s 87us/step - loss: 0.1364 - val_loss: 0.1481\n",
            "Epoch 20/50\n",
            "60000/60000 [==============================] - 5s 87us/step - loss: 0.1407 - val_loss: 0.1459\n",
            "Epoch 21/50\n",
            "60000/60000 [==============================] - 5s 87us/step - loss: 0.1396 - val_loss: 0.1474\n",
            "Epoch 22/50\n",
            "60000/60000 [==============================] - 5s 87us/step - loss: 0.1393 - val_loss: 0.1455\n",
            "Epoch 23/50\n",
            "60000/60000 [==============================] - 5s 88us/step - loss: 0.1391 - val_loss: 0.1394\n",
            "Epoch 24/50\n",
            "60000/60000 [==============================] - 5s 87us/step - loss: 0.1388 - val_loss: 0.1355\n",
            "Epoch 25/50\n",
            "60000/60000 [==============================] - 5s 88us/step - loss: 0.1372 - val_loss: 0.1354\n",
            "Epoch 26/50\n",
            "60000/60000 [==============================] - 5s 88us/step - loss: 0.1364 - val_loss: 0.1317\n",
            "Epoch 27/50\n",
            "60000/60000 [==============================] - 5s 89us/step - loss: 0.1359 - val_loss: 0.1378\n",
            "Epoch 28/50\n",
            "60000/60000 [==============================] - 5s 88us/step - loss: 0.1354 - val_loss: 0.1354\n",
            "Epoch 29/50\n",
            "60000/60000 [==============================] - 5s 88us/step - loss: 0.1346 - val_loss: 0.1281\n",
            "Epoch 30/50\n",
            "60000/60000 [==============================] - 5s 88us/step - loss: 0.1334 - val_loss: 0.1331\n",
            "Epoch 31/50\n",
            "60000/60000 [==============================] - 5s 89us/step - loss: 0.1325 - val_loss: 0.1322\n",
            "Epoch 32/50\n",
            "60000/60000 [==============================] - 5s 88us/step - loss: 0.1323 - val_loss: 0.1260\n",
            "Epoch 33/50\n",
            "60000/60000 [==============================] - 5s 88us/step - loss: 0.1313 - val_loss: 0.1374\n",
            "Epoch 34/50\n",
            "60000/60000 [==============================] - 5s 89us/step - loss: 0.1311 - val_loss: 0.1316\n",
            "Epoch 35/50\n",
            "60000/60000 [==============================] - 5s 89us/step - loss: 0.1299 - val_loss: 0.1238\n",
            "Epoch 36/50\n",
            "60000/60000 [==============================] - 5s 87us/step - loss: 0.1294 - val_loss: 0.1426\n",
            "Epoch 37/50\n",
            "60000/60000 [==============================] - 5s 87us/step - loss: 0.1286 - val_loss: 0.1305\n",
            "Epoch 38/50\n",
            "60000/60000 [==============================] - 5s 87us/step - loss: 0.1281 - val_loss: 0.1473\n",
            "Epoch 39/50\n",
            "60000/60000 [==============================] - 5s 88us/step - loss: 0.1277 - val_loss: 0.1350\n",
            "Epoch 40/50\n",
            "60000/60000 [==============================] - 5s 86us/step - loss: 0.1272 - val_loss: 0.1334\n",
            "Epoch 41/50\n",
            "60000/60000 [==============================] - 5s 88us/step - loss: 0.1270 - val_loss: 0.1302\n",
            "Epoch 42/50\n",
            "60000/60000 [==============================] - 5s 87us/step - loss: 0.1270 - val_loss: 0.1216\n",
            "Epoch 43/50\n",
            "60000/60000 [==============================] - 5s 87us/step - loss: 0.1261 - val_loss: 0.1220\n",
            "Epoch 44/50\n",
            "60000/60000 [==============================] - 5s 86us/step - loss: 0.1261 - val_loss: 0.1201\n",
            "Epoch 45/50\n",
            "60000/60000 [==============================] - 5s 88us/step - loss: 0.1251 - val_loss: 0.1320\n",
            "Epoch 46/50\n",
            "60000/60000 [==============================] - 5s 89us/step - loss: 0.1258 - val_loss: 0.1214\n",
            "Epoch 47/50\n",
            "60000/60000 [==============================] - 5s 88us/step - loss: 0.1251 - val_loss: 0.1297\n",
            "Epoch 48/50\n",
            "60000/60000 [==============================] - 5s 88us/step - loss: 0.1256 - val_loss: 0.1295\n",
            "Epoch 49/50\n",
            "60000/60000 [==============================] - 5s 87us/step - loss: 0.1255 - val_loss: 0.1237\n",
            "Epoch 50/50\n",
            "60000/60000 [==============================] - 5s 87us/step - loss: 0.1242 - val_loss: 0.1192\n"
          ],
          "name": "stdout"
        },
        {
          "output_type": "execute_result",
          "data": {
            "text/plain": [
              "<keras.callbacks.History at 0x7f413ae375c0>"
            ]
          },
          "metadata": {
            "tags": []
          },
          "execution_count": 22
        }
      ]
    },
    {
      "cell_type": "code",
      "metadata": {
        "id": "ZVQjE_PagZ_X",
        "colab_type": "code",
        "colab": {}
      },
      "source": [
        "out_images = model.predict(x_test,batch_size=256)"
      ],
      "execution_count": 0,
      "outputs": []
    },
    {
      "cell_type": "code",
      "metadata": {
        "id": "eRslGptDhShL",
        "colab_type": "code",
        "colab": {
          "base_uri": "https://localhost:8080/",
          "height": 263
        },
        "outputId": "c0debc2e-67fb-4bfd-ef4a-79975848550b"
      },
      "source": [
        "n=10\n",
        "plt.figure(figsize=(20,4))\n",
        "\n",
        "for i in range(n):\n",
        "  ax = plt.subplot(2,n,i+1)\n",
        "  plt.imshow(x_test[i].reshape(28,28))\n",
        "  plt.gray()\n",
        "\n",
        "  ax = plt.subplot(2,n,i+1+n)\n",
        "  plt.imshow(out_images[i].reshape(28,28))\n",
        "  plt.gray()\n",
        "\n",
        "plt.show()"
      ],
      "execution_count": 24,
      "outputs": [
        {
          "output_type": "display_data",
          "data": {
            "image/png": "[encoded data removed]",
            "text/plain": [
              "<Figure size 1440x288 with 20 Axes>"
            ]
          },
          "metadata": {
            "tags": []
          }
        }
      ]
    },
    {
      "cell_type": "markdown",
      "metadata": {
        "id": "iQzTXgYRjLWe",
        "colab_type": "text"
      },
      "source": [
        "## Deep Autoencoder\n"
      ]
    },
    {
      "cell_type": "code",
      "metadata": {
        "id": "w5G0RJDyiFSQ",
        "colab_type": "code",
        "colab": {
          "base_uri": "https://localhost:8080/",
          "height": 139
        },
        "outputId": "518ce0ad-2785-4edc-a835-39c58afaebd6"
      },
      "source": [
        "input_img = Input(shape=(784,))\n",
        "encoded = Dense(256,activation='relu')(input_img)\n",
        "encoded = Dense(128,activation='relu')(encoded)\n",
        "encoded = Dense(64,activation='relu')(encoded) #bottleneck\n",
        "\n",
        "decoded = Dense(128,activation='relu')(encoded)\n",
        "decoded = Dense(256,activation='relu')(decoded)\n",
        "decoded = Dense(784,activation='sigmoid')(decoded)\n",
        "\n",
        "autoencoder = Model(input_img,decoded)\n",
        "\n",
        "encoder = Model(input_img, encoded)\n",
        "\n",
        "encoded_input = Input(shape=(encoding_dim,))\n",
        "\n",
        "decoder_layer = autoencoder.layers[-3](encoded_input)\n",
        "decoder_layer = autoencoder.layers[-2](decoder_layer)\n",
        "decoder_layer = autoencoder.layers[-1](decoder_layer)\n",
        "\n",
        "decoder = Model(encoded_input, decoder_layer)"
      ],
      "execution_count": 4,
      "outputs": [
        {
          "output_type": "stream",
          "text": [
            "WARNING:tensorflow:From /usr/local/lib/python3.6/dist-packages/keras/backend/tensorflow_backend.py:66: The name tf.get_default_graph is deprecated. Please use tf.compat.v1.get_default_graph instead.\n",
            "\n",
            "WARNING:tensorflow:From /usr/local/lib/python3.6/dist-packages/keras/backend/tensorflow_backend.py:541: The name tf.placeholder is deprecated. Please use tf.compat.v1.placeholder instead.\n",
            "\n",
            "WARNING:tensorflow:From /usr/local/lib/python3.6/dist-packages/keras/backend/tensorflow_backend.py:4432: The name tf.random_uniform is deprecated. Please use tf.random.uniform instead.\n",
            "\n"
          ],
          "name": "stdout"
        }
      ]
    },
    {
      "cell_type": "code",
      "metadata": {
        "id": "XUiLfIKRkCBm",
        "colab_type": "code",
        "colab": {}
      },
      "source": [
        "model.compile(optimizer='adadelta',loss='binary_crossentropy')"
      ],
      "execution_count": 0,
      "outputs": []
    },
    {
      "cell_type": "code",
      "metadata": {
        "id": "ZY1MLc6xlVP2",
        "colab_type": "code",
        "colab": {
          "base_uri": "https://localhost:8080/",
          "height": 85
        },
        "outputId": "af12fdc5-eef2-4b74-b4fd-d4f5cda70689"
      },
      "source": [
        "(x_train, _ ),(x_test, _) = mnist.load_data()\n",
        "\n",
        "x_train =  x_train.astype('float32')/255\n",
        "x_test =  x_test.astype('float32')/255\n",
        "print(f'x_train shape = {x_train.shape}')\n",
        "print(f'x_test shape = {x_test.shape}')\n",
        "\n",
        "\n",
        "x_train = x_train.reshape((len(x_train), (np.prod(x_train.shape[1:]))))\n",
        "x_test = x_test.reshape((len(x_test), (np.prod(x_test.shape[1:]))))\n",
        "print(f'x_train shape = {x_train.shape}')\n",
        "print(f'x_test shape = {x_test.shape}')"
      ],
      "execution_count": 28,
      "outputs": [
        {
          "output_type": "stream",
          "text": [
            "x_train shape = (60000, 28, 28)\n",
            "x_test shape = (10000, 28, 28)\n",
            "x_train shape = (60000, 784)\n",
            "x_test shape = (10000, 784)\n"
          ],
          "name": "stdout"
        }
      ]
    },
    {
      "cell_type": "code",
      "metadata": {
        "id": "_RiiCk-RlY29",
        "colab_type": "code",
        "colab": {
          "base_uri": "https://localhost:8080/",
          "height": 1000
        },
        "outputId": "e92337f0-0ebe-4dd2-ceca-1b69b82b795a"
      },
      "source": [
        "model.fit(x_train,x_train,epochs=50,batch_size=(256),shuffle=True,validation_data=(x_test,x_test))"
      ],
      "execution_count": 29,
      "outputs": [
        {
          "output_type": "stream",
          "text": [
            "Train on 60000 samples, validate on 10000 samples\n",
            "Epoch 1/50\n",
            "60000/60000 [==============================] - 6s 96us/step - loss: 0.1253 - val_loss: 0.1201\n",
            "Epoch 2/50\n",
            "60000/60000 [==============================] - 5s 88us/step - loss: 0.1246 - val_loss: 0.1348\n",
            "Epoch 3/50\n",
            "60000/60000 [==============================] - 5s 89us/step - loss: 0.1245 - val_loss: 0.1200\n",
            "Epoch 4/50\n",
            "60000/60000 [==============================] - 5s 88us/step - loss: 0.1245 - val_loss: 0.1376\n",
            "Epoch 5/50\n",
            "60000/60000 [==============================] - 5s 89us/step - loss: 0.1242 - val_loss: 0.1235\n",
            "Epoch 6/50\n",
            "60000/60000 [==============================] - 5s 87us/step - loss: 0.1238 - val_loss: 0.1161\n",
            "Epoch 7/50\n",
            "60000/60000 [==============================] - 5s 88us/step - loss: 0.1235 - val_loss: 0.1209\n",
            "Epoch 8/50\n",
            "60000/60000 [==============================] - 5s 88us/step - loss: 0.1236 - val_loss: 0.1223\n",
            "Epoch 9/50\n",
            "60000/60000 [==============================] - 5s 88us/step - loss: 0.1234 - val_loss: 0.1282\n",
            "Epoch 10/50\n",
            "60000/60000 [==============================] - 5s 88us/step - loss: 0.1228 - val_loss: 0.1317\n",
            "Epoch 11/50\n",
            "60000/60000 [==============================] - 5s 88us/step - loss: 0.1229 - val_loss: 0.1150\n",
            "Epoch 12/50\n",
            "60000/60000 [==============================] - 5s 88us/step - loss: 0.1230 - val_loss: 0.1200\n",
            "Epoch 13/50\n",
            "60000/60000 [==============================] - 5s 88us/step - loss: 0.1229 - val_loss: 0.1135\n",
            "Epoch 14/50\n",
            "60000/60000 [==============================] - 5s 88us/step - loss: 0.1227 - val_loss: 0.1215\n",
            "Epoch 15/50\n",
            "60000/60000 [==============================] - 5s 88us/step - loss: 0.1231 - val_loss: 0.1311\n",
            "Epoch 16/50\n",
            "60000/60000 [==============================] - 5s 88us/step - loss: 0.1224 - val_loss: 0.1160\n",
            "Epoch 17/50\n",
            "60000/60000 [==============================] - 5s 89us/step - loss: 0.1221 - val_loss: 0.1298\n",
            "Epoch 18/50\n",
            "60000/60000 [==============================] - 5s 88us/step - loss: 0.1227 - val_loss: 0.1211\n",
            "Epoch 19/50\n",
            "60000/60000 [==============================] - 5s 88us/step - loss: 0.1220 - val_loss: 0.1212\n",
            "Epoch 20/50\n",
            "60000/60000 [==============================] - 5s 88us/step - loss: 0.1220 - val_loss: 0.1262\n",
            "Epoch 21/50\n",
            "60000/60000 [==============================] - 5s 89us/step - loss: 0.1222 - val_loss: 0.1286\n",
            "Epoch 22/50\n",
            "60000/60000 [==============================] - 5s 88us/step - loss: 0.1223 - val_loss: 0.1198\n",
            "Epoch 23/50\n",
            "60000/60000 [==============================] - 5s 88us/step - loss: 0.1217 - val_loss: 0.1282\n",
            "Epoch 24/50\n",
            "60000/60000 [==============================] - 5s 88us/step - loss: 0.1222 - val_loss: 0.1268\n",
            "Epoch 25/50\n",
            "60000/60000 [==============================] - 5s 88us/step - loss: 0.1219 - val_loss: 0.1246\n",
            "Epoch 26/50\n",
            "60000/60000 [==============================] - 5s 87us/step - loss: 0.1219 - val_loss: 0.1195\n",
            "Epoch 27/50\n",
            "60000/60000 [==============================] - 5s 88us/step - loss: 0.1217 - val_loss: 0.1167\n",
            "Epoch 28/50\n",
            "60000/60000 [==============================] - 5s 88us/step - loss: 0.1219 - val_loss: 0.1224\n",
            "Epoch 29/50\n",
            "60000/60000 [==============================] - 5s 89us/step - loss: 0.1219 - val_loss: 0.1271\n",
            "Epoch 30/50\n",
            "60000/60000 [==============================] - 5s 89us/step - loss: 0.1214 - val_loss: 0.1197\n",
            "Epoch 31/50\n",
            "60000/60000 [==============================] - 5s 88us/step - loss: 0.1219 - val_loss: 0.1122\n",
            "Epoch 32/50\n",
            "60000/60000 [==============================] - 5s 88us/step - loss: 0.1215 - val_loss: 0.1239\n",
            "Epoch 33/50\n",
            "60000/60000 [==============================] - 5s 89us/step - loss: 0.1213 - val_loss: 0.1189\n",
            "Epoch 34/50\n",
            "60000/60000 [==============================] - 5s 89us/step - loss: 0.1211 - val_loss: 0.1213\n",
            "Epoch 35/50\n",
            "60000/60000 [==============================] - 5s 87us/step - loss: 0.1216 - val_loss: 0.1267\n",
            "Epoch 36/50\n",
            "60000/60000 [==============================] - 5s 89us/step - loss: 0.1211 - val_loss: 0.1240\n",
            "Epoch 37/50\n",
            "60000/60000 [==============================] - 5s 87us/step - loss: 0.1211 - val_loss: 0.1159\n",
            "Epoch 38/50\n",
            "60000/60000 [==============================] - 6s 93us/step - loss: 0.1211 - val_loss: 0.1154\n",
            "Epoch 39/50\n",
            "60000/60000 [==============================] - 6s 94us/step - loss: 0.1214 - val_loss: 0.1239\n",
            "Epoch 40/50\n",
            "60000/60000 [==============================] - 5s 90us/step - loss: 0.1213 - val_loss: 0.1293\n",
            "Epoch 41/50\n",
            "60000/60000 [==============================] - 5s 88us/step - loss: 0.1212 - val_loss: 0.1113\n",
            "Epoch 42/50\n",
            "60000/60000 [==============================] - 5s 88us/step - loss: 0.1211 - val_loss: 0.1203\n",
            "Epoch 43/50\n",
            "60000/60000 [==============================] - 5s 89us/step - loss: 0.1211 - val_loss: 0.1128\n",
            "Epoch 44/50\n",
            "60000/60000 [==============================] - 5s 87us/step - loss: 0.1214 - val_loss: 0.1179\n",
            "Epoch 45/50\n",
            "60000/60000 [==============================] - 5s 88us/step - loss: 0.1211 - val_loss: 0.1195\n",
            "Epoch 46/50\n",
            "60000/60000 [==============================] - 5s 88us/step - loss: 0.1215 - val_loss: 0.1128\n",
            "Epoch 47/50\n",
            "60000/60000 [==============================] - 5s 88us/step - loss: 0.1210 - val_loss: 0.1212\n",
            "Epoch 48/50\n",
            "60000/60000 [==============================] - 5s 88us/step - loss: 0.1210 - val_loss: 0.1230\n",
            "Epoch 49/50\n",
            "60000/60000 [==============================] - 5s 88us/step - loss: 0.1216 - val_loss: 0.1240\n",
            "Epoch 50/50\n",
            "60000/60000 [==============================] - 5s 89us/step - loss: 0.1212 - val_loss: 0.1167\n"
          ],
          "name": "stdout"
        },
        {
          "output_type": "execute_result",
          "data": {
            "text/plain": [
              "<keras.callbacks.History at 0x7f413a468668>"
            ]
          },
          "metadata": {
            "tags": []
          },
          "execution_count": 29
        }
      ]
    },
    {
      "cell_type": "code",
      "metadata": {
        "id": "7EdfxnLulc9N",
        "colab_type": "code",
        "colab": {}
      },
      "source": [
        "out_images = model.predict(x_test,batch_size=256)"
      ],
      "execution_count": 0,
      "outputs": []
    },
    {
      "cell_type": "code",
      "metadata": {
        "id": "6o-VnVBDoUB-",
        "colab_type": "code",
        "colab": {
          "base_uri": "https://localhost:8080/",
          "height": 263
        },
        "outputId": "9e9c2cca-8ffb-4cbb-9af6-04fde0e22966"
      },
      "source": [
        "\n",
        "n=10\n",
        "plt.figure(figsize=(20,4))\n",
        "\n",
        "for i in range(n):\n",
        "  ax = plt.subplot(2,n,i+1)\n",
        "  plt.imshow(x_test[i].reshape(28,28))\n",
        "  plt.gray()\n",
        "\n",
        "  ax = plt.subplot(2,n,i+1+n)\n",
        "  plt.imshow(out_images[i].reshape(28,28))\n",
        "  plt.gray()\n",
        "\n",
        "plt.show()"
      ],
      "execution_count": 31,
      "outputs": [
        {
          "output_type": "display_data",
          "data": {
            "image/png": "[encoded data removed]",
            "text/plain": [
              "<Figure size 1440x288 with 20 Axes>"
            ]
          },
          "metadata": {
            "tags": []
          }
        }
      ]
    },
    {
      "cell_type": "markdown",
      "metadata": {
        "id": "ZUhkMZ5pFlkw",
        "colab_type": "text"
      },
      "source": [
        "# Convolutional Auto Encoders\n"
      ]
    },
    {
      "cell_type": "code",
      "metadata": {
        "id": "EElj7jXMq6ei",
        "colab_type": "code",
        "colab": {}
      },
      "source": [
        "from keras.layers import Convolution2D,MaxPooling2D,UpSampling2D,Input"
      ],
      "execution_count": 0,
      "outputs": []
    },
    {
      "cell_type": "code",
      "metadata": {
        "id": "J04NN1dEuDWy",
        "colab_type": "code",
        "colab": {
          "base_uri": "https://localhost:8080/",
          "height": 119
        },
        "outputId": "5ef042d0-7598-4be1-f573-e1ba7170666c"
      },
      "source": [
        "(x_train, _ ),(x_test, _) = mnist.load_data()\n",
        "\n",
        "x_train =  x_train.astype('float32')/255\n",
        "x_test =  x_test.astype('float32')/255\n",
        "print(f'x_train shape = {x_train.shape}')\n",
        "print(f'x_test shape = {x_test.shape}')\n",
        "\n",
        "\n",
        "x_train = x_train.reshape((len(x_train),28,28,1) )\n",
        "x_test = x_test.reshape((len(x_test),28,28,1))\n",
        "print(f'x_train shape = {x_train.shape}')\n",
        "print(f'x_test shape = {x_test.shape}')"
      ],
      "execution_count": 6,
      "outputs": [
        {
          "output_type": "stream",
          "text": [
            "Downloading data from https://s3.amazonaws.com/img-datasets/mnist.npz\n",
            "11493376/11490434 [==============================] - 1s 0us/step\n",
            "x_train shape = (60000, 28, 28)\n",
            "x_test shape = (10000, 28, 28)\n",
            "x_train shape = (60000, 28, 28, 1)\n",
            "x_test shape = (10000, 28, 28, 1)\n"
          ],
          "name": "stdout"
        }
      ]
    },
    {
      "cell_type": "code",
      "metadata": {
        "id": "wypRDlLnoWu8",
        "colab_type": "code",
        "colab": {
          "base_uri": "https://localhost:8080/",
          "height": 105
        },
        "outputId": "6026e92c-966a-4e74-ab27-72f620a78c65"
      },
      "source": [
        "input = Input(shape=(28,28,1), name='input')\n",
        "x  = Convolution2D(16, kernel_size=(3,3), padding='same', activation='relu', name='conv_1')(input)\n",
        "x  = MaxPooling2D(pool_size=(2,2), padding='same')(x)\n",
        "x  = Convolution2D(8, kernel_size=(3,3), padding='same', activation='relu', name='conv_2')(x)\n",
        "x  = MaxPooling2D(pool_size=(2,2), padding='same')(x)\n",
        "x  = Convolution2D(8, kernel_size=(3,3), padding='same', activation='relu', name='conv_3')(x)\n",
        "x  = MaxPooling2D(pool_size=(2,2), padding='same')(x)\n",
        "\n",
        "x  = Convolution2D(8, kernel_size=(3,3), padding='same', activation='relu', name='conv_4')(x)\n",
        "x  = UpSampling2D(size=(2,2))(x)\n",
        "x  = Convolution2D(8, kernel_size=(3,3), padding='same', activation='relu', name='conv_5')(x)\n",
        "x  = UpSampling2D(size=(2,2))(x)\n",
        "x  = Convolution2D(8, kernel_size=(3,3),  activation='relu', name='conv_6')(x)\n",
        "x  = UpSampling2D(size=(2,2))(x)\n",
        "\n",
        "output = Convolution2D(filters=1, kernel_size=(3,3), padding='same', activation='sigmoid', name = 'output' )(x)"
      ],
      "execution_count": 7,
      "outputs": [
        {
          "output_type": "stream",
          "text": [
            "WARNING:tensorflow:From /usr/local/lib/python3.6/dist-packages/keras/backend/tensorflow_backend.py:4267: The name tf.nn.max_pool is deprecated. Please use tf.nn.max_pool2d instead.\n",
            "\n",
            "WARNING:tensorflow:From /usr/local/lib/python3.6/dist-packages/keras/backend/tensorflow_backend.py:2239: The name tf.image.resize_nearest_neighbor is deprecated. Please use tf.compat.v1.image.resize_nearest_neighbor instead.\n",
            "\n"
          ],
          "name": "stdout"
        }
      ]
    },
    {
      "cell_type": "code",
      "metadata": {
        "id": "nRjENMocsqrI",
        "colab_type": "code",
        "colab": {
          "base_uri": "https://localhost:8080/",
          "height": 156
        },
        "outputId": "05b6e895-fb33-44c2-cdfc-ce5faff5d893"
      },
      "source": [
        "model = Model(inputs=input, outputs=output, name='CAE')\n",
        "model.compile(optimizer='adadelta',loss='binary_crossentropy')"
      ],
      "execution_count": 8,
      "outputs": [
        {
          "output_type": "stream",
          "text": [
            "WARNING:tensorflow:From /usr/local/lib/python3.6/dist-packages/keras/optimizers.py:793: The name tf.train.Optimizer is deprecated. Please use tf.compat.v1.train.Optimizer instead.\n",
            "\n",
            "WARNING:tensorflow:From /usr/local/lib/python3.6/dist-packages/keras/backend/tensorflow_backend.py:3657: The name tf.log is deprecated. Please use tf.math.log instead.\n",
            "\n",
            "WARNING:tensorflow:From /usr/local/lib/python3.6/dist-packages/tensorflow_core/python/ops/nn_impl.py:183: where (from tensorflow.python.ops.array_ops) is deprecated and will be removed in a future version.\n",
            "Instructions for updating:\n",
            "Use tf.where in 2.0, which has the same broadcast rule as np.where\n"
          ],
          "name": "stdout"
        }
      ]
    },
    {
      "cell_type": "code",
      "metadata": {
        "id": "KIivD9lLtL3k",
        "colab_type": "code",
        "colab": {
          "base_uri": "https://localhost:8080/",
          "height": 629
        },
        "outputId": "7fef023a-210f-4270-cbb4-aac9ec17cea3"
      },
      "source": [
        "model.summary()"
      ],
      "execution_count": 9,
      "outputs": [
        {
          "output_type": "stream",
          "text": [
            "Model: \"CAE\"\n",
            "_________________________________________________________________\n",
            "Layer (type)                 Output Shape              Param #   \n",
            "=================================================================\n",
            "input (InputLayer)           (None, 28, 28, 1)         0         \n",
            "_________________________________________________________________\n",
            "conv_1 (Conv2D)              (None, 28, 28, 16)        160       \n",
            "_________________________________________________________________\n",
            "max_pooling2d_1 (MaxPooling2 (None, 14, 14, 16)        0         \n",
            "_________________________________________________________________\n",
            "conv_2 (Conv2D)              (None, 14, 14, 8)         1160      \n",
            "_________________________________________________________________\n",
            "max_pooling2d_2 (MaxPooling2 (None, 7, 7, 8)           0         \n",
            "_________________________________________________________________\n",
            "conv_3 (Conv2D)              (None, 7, 7, 8)           584       \n",
            "_________________________________________________________________\n",
            "max_pooling2d_3 (MaxPooling2 (None, 4, 4, 8)           0         \n",
            "_________________________________________________________________\n",
            "conv_4 (Conv2D)              (None, 4, 4, 8)           584       \n",
            "_________________________________________________________________\n",
            "up_sampling2d_1 (UpSampling2 (None, 8, 8, 8)           0         \n",
            "_________________________________________________________________\n",
            "conv_5 (Conv2D)              (None, 8, 8, 8)           584       \n",
            "_________________________________________________________________\n",
            "up_sampling2d_2 (UpSampling2 (None, 16, 16, 8)         0         \n",
            "_________________________________________________________________\n",
            "conv_6 (Conv2D)              (None, 14, 14, 8)         584       \n",
            "_________________________________________________________________\n",
            "up_sampling2d_3 (UpSampling2 (None, 28, 28, 8)         0         \n",
            "_________________________________________________________________\n",
            "output (Conv2D)              (None, 28, 28, 1)         73        \n",
            "=================================================================\n",
            "Total params: 3,729\n",
            "Trainable params: 3,729\n",
            "Non-trainable params: 0\n",
            "_________________________________________________________________\n"
          ],
          "name": "stdout"
        }
      ]
    },
    {
      "cell_type": "code",
      "metadata": {
        "id": "GY8ypYhttQTs",
        "colab_type": "code",
        "colab": {
          "base_uri": "https://localhost:8080/",
          "height": 714
        },
        "outputId": "ba6a9382-6fc9-439b-aa78-3dace0a99217"
      },
      "source": [
        "model.fit(x_train,x_train,batch_size=32,epochs=20)"
      ],
      "execution_count": 11,
      "outputs": [
        {
          "output_type": "stream",
          "text": [
            "Epoch 1/20\n",
            "60000/60000 [==============================] - 13s 210us/step - loss: 0.1182\n",
            "Epoch 2/20\n",
            "60000/60000 [==============================] - 12s 204us/step - loss: 0.1145\n",
            "Epoch 3/20\n",
            "60000/60000 [==============================] - 12s 206us/step - loss: 0.1119\n",
            "Epoch 4/20\n",
            "60000/60000 [==============================] - 12s 205us/step - loss: 0.1097\n",
            "Epoch 5/20\n",
            "60000/60000 [==============================] - 12s 205us/step - loss: 0.1079\n",
            "Epoch 6/20\n",
            "60000/60000 [==============================] - 12s 206us/step - loss: 0.1067\n",
            "Epoch 7/20\n",
            "60000/60000 [==============================] - 12s 205us/step - loss: 0.1053\n",
            "Epoch 8/20\n",
            "60000/60000 [==============================] - 12s 208us/step - loss: 0.1044\n",
            "Epoch 9/20\n",
            "60000/60000 [==============================] - 12s 205us/step - loss: 0.1035\n",
            "Epoch 10/20\n",
            "60000/60000 [==============================] - 12s 202us/step - loss: 0.1026\n",
            "Epoch 11/20\n",
            "60000/60000 [==============================] - 12s 203us/step - loss: 0.1021\n",
            "Epoch 12/20\n",
            "60000/60000 [==============================] - 12s 200us/step - loss: 0.1012\n",
            "Epoch 13/20\n",
            "60000/60000 [==============================] - 12s 201us/step - loss: 0.1008\n",
            "Epoch 14/20\n",
            "60000/60000 [==============================] - 12s 204us/step - loss: 0.1004\n",
            "Epoch 15/20\n",
            "60000/60000 [==============================] - 12s 201us/step - loss: 0.0996\n",
            "Epoch 16/20\n",
            "60000/60000 [==============================] - 12s 203us/step - loss: 0.0992\n",
            "Epoch 17/20\n",
            "60000/60000 [==============================] - 12s 201us/step - loss: 0.0988\n",
            "Epoch 18/20\n",
            "60000/60000 [==============================] - 12s 204us/step - loss: 0.0985\n",
            "Epoch 19/20\n",
            "60000/60000 [==============================] - 13s 210us/step - loss: 0.0980\n",
            "Epoch 20/20\n",
            "60000/60000 [==============================] - 13s 217us/step - loss: 0.0977\n"
          ],
          "name": "stdout"
        },
        {
          "output_type": "execute_result",
          "data": {
            "text/plain": [
              "<keras.callbacks.History at 0x7f457e964908>"
            ]
          },
          "metadata": {
            "tags": []
          },
          "execution_count": 11
        }
      ]
    },
    {
      "cell_type": "code",
      "metadata": {
        "id": "qfmUtkzyC9dY",
        "colab_type": "code",
        "colab": {}
      },
      "source": [
        "out_images = model.predict(x_test)"
      ],
      "execution_count": 0,
      "outputs": []
    },
    {
      "cell_type": "code",
      "metadata": {
        "id": "neCB4fvVtwmZ",
        "colab_type": "code",
        "colab": {
          "base_uri": "https://localhost:8080/",
          "height": 263
        },
        "outputId": "3c29d265-be0f-4435-f015-ed0392f38a84"
      },
      "source": [
        "\n",
        "n=10\n",
        "plt.figure(figsize=(20,4))\n",
        "\n",
        "for i in range(n):\n",
        "  ax = plt.subplot(2,n,i+1)\n",
        "  plt.imshow(x_test[i].reshape(28,28))\n",
        "  # plt.gray()\n",
        "\n",
        "  ax = plt.subplot(2,n,i+1+n)\n",
        "  plt.imshow(out_images[i].reshape(28,28))\n",
        "  # plt.gray()\n",
        "\n",
        "plt.show()"
      ],
      "execution_count": 14,
      "outputs": [
        {
          "output_type": "display_data",
          "data": {
            "image/png": "[encoded data removed]",
            "text/plain": [
              "<Figure size 1440x288 with 20 Axes>"
            ]
          },
          "metadata": {
            "tags": []
          }
        }
      ]
    },
    {
      "cell_type": "code",
      "metadata": {
        "id": "3NCDqAZNC_qp",
        "colab_type": "code",
        "colab": {}
      },
      "source": [
        ""
      ],
      "execution_count": 0,
      "outputs": []
    }
  ]
}